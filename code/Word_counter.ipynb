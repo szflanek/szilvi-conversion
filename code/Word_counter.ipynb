{
 "cells": [
  {
   "cell_type": "code",
   "execution_count": 12,
   "metadata": {},
   "outputs": [
    {
     "data": {
      "text/plain": [
       "'This ebook is made available at no cost and with very few\\nrestrictions. These restrictions apply only if (1) you make\\na change in the ebook (other than alteration for different\\ndisplay devices), or (2) you are making commercial use of\\nthe ebook. If either of these conditions applies, please\\ncheck gutenberg.ca/links/licence.html before proceeding.'"
      ]
     },
     "execution_count": 12,
     "metadata": {},
     "output_type": "execute_result"
    }
   ],
   "source": [
    "test_data='''This ebook is made available at no cost and with very few\n",
    "restrictions. These restrictions apply only if (1) you make\n",
    "a change in the ebook (other than alteration for different\n",
    "display devices), or (2) you are making commercial use of\n",
    "the ebook. If either of these conditions applies, please\n",
    "check gutenberg.ca/links/licence.html before proceeding.'''\n",
    "test_data"
   ]
  },
  {
   "cell_type": "code",
   "execution_count": 13,
   "metadata": {},
   "outputs": [
    {
     "data": {
      "text/plain": [
       "['this',\n",
       " 'ebook',\n",
       " 'is',\n",
       " 'made',\n",
       " 'available',\n",
       " 'at',\n",
       " 'no',\n",
       " 'cost',\n",
       " 'and',\n",
       " 'with',\n",
       " 'very',\n",
       " 'few',\n",
       " 'restrictions.',\n",
       " 'these',\n",
       " 'restrictions',\n",
       " 'apply',\n",
       " 'only',\n",
       " 'if',\n",
       " '(1)',\n",
       " 'you',\n",
       " 'make',\n",
       " 'a',\n",
       " 'change',\n",
       " 'in',\n",
       " 'the',\n",
       " 'ebook',\n",
       " '(other',\n",
       " 'than',\n",
       " 'alteration',\n",
       " 'for',\n",
       " 'different',\n",
       " 'display',\n",
       " 'devices),',\n",
       " 'or',\n",
       " '(2)',\n",
       " 'you',\n",
       " 'are',\n",
       " 'making',\n",
       " 'commercial',\n",
       " 'use',\n",
       " 'of',\n",
       " 'the',\n",
       " 'ebook.',\n",
       " 'if',\n",
       " 'either',\n",
       " 'of',\n",
       " 'these',\n",
       " 'conditions',\n",
       " 'applies,',\n",
       " 'please',\n",
       " 'check',\n",
       " 'gutenberg.ca/links/licence.html',\n",
       " 'before',\n",
       " 'proceeding.']"
      ]
     },
     "execution_count": 13,
     "metadata": {},
     "output_type": "execute_result"
    }
   ],
   "source": [
    "def words(text):\n",
    "    list_of_words=[]\n",
    "    for word in text.split():\n",
    "        list_of_words.append(word.lower())\n",
    "    return list_of_words\n",
    "words(test_data)"
   ]
  },
  {
   "cell_type": "code",
   "execution_count": 14,
   "metadata": {},
   "outputs": [],
   "source": [
    "counter={'this':3, 'of':4, 'conditions':1}"
   ]
  },
  {
   "cell_type": "code",
   "execution_count": 15,
   "metadata": {},
   "outputs": [
    {
     "data": {
      "text/plain": [
       "{'this': 1,\n",
       " 'ebook': 2,\n",
       " 'is': 1,\n",
       " 'made': 1,\n",
       " 'available': 1,\n",
       " 'at': 1,\n",
       " 'no': 1,\n",
       " 'cost': 1,\n",
       " 'and': 1,\n",
       " 'with': 1,\n",
       " 'very': 1,\n",
       " 'few': 1,\n",
       " 'restrictions.': 1,\n",
       " 'these': 2,\n",
       " 'restrictions': 1,\n",
       " 'apply': 1,\n",
       " 'only': 1,\n",
       " 'if': 2,\n",
       " '(1)': 1,\n",
       " 'you': 2,\n",
       " 'make': 1,\n",
       " 'a': 1,\n",
       " 'change': 1,\n",
       " 'in': 1,\n",
       " 'the': 2,\n",
       " '(other': 1,\n",
       " 'than': 1,\n",
       " 'alteration': 1,\n",
       " 'for': 1,\n",
       " 'different': 1,\n",
       " 'display': 1,\n",
       " 'devices),': 1,\n",
       " 'or': 1,\n",
       " '(2)': 1,\n",
       " 'are': 1,\n",
       " 'making': 1,\n",
       " 'commercial': 1,\n",
       " 'use': 1,\n",
       " 'of': 2,\n",
       " 'ebook.': 1,\n",
       " 'either': 1,\n",
       " 'conditions': 1,\n",
       " 'applies,': 1,\n",
       " 'please': 1,\n",
       " 'check': 1,\n",
       " 'gutenberg.ca/links/licence.html': 1,\n",
       " 'before': 1,\n",
       " 'proceeding.': 1}"
      ]
     },
     "execution_count": 15,
     "metadata": {},
     "output_type": "execute_result"
    }
   ],
   "source": [
    "list_of_words=(words(test_data))\n",
    "def word_count(words):\n",
    "    counter={}\n",
    "    for word in words:\n",
    "        if word in counter:\n",
    "            counter[word]=counter[word]+1\n",
    "        else: \n",
    "            counter[word]=1\n",
    "    return counter\n",
    "dict_of_words=word_count(list_of_words)\n",
    "dict_of_words"
   ]
  },
  {
   "cell_type": "code",
   "execution_count": 9,
   "metadata": {},
   "outputs": [
    {
     "data": {
      "text/plain": [
       "1"
      ]
     },
     "execution_count": 9,
     "metadata": {},
     "output_type": "execute_result"
    }
   ],
   "source": [
    "dict_of_words['this']"
   ]
  },
  {
   "cell_type": "code",
   "execution_count": 7,
   "metadata": {},
   "outputs": [],
   "source": [
    "def read_text(filename):\n",
    "    with open(filename, 'rt', encoding='latin1') as textfile:\n",
    "        print('I am insdie with:')\n",
    "        data=textfile.read()\n",
    "    print('I am now outside and the file is closed.')\n",
    "    return data"
   ]
  },
  {
   "cell_type": "code",
   "execution_count": 16,
   "metadata": {},
   "outputs": [
    {
     "name": "stdout",
     "output_type": "stream",
     "text": [
      "I am insdie with:\n",
      "I am now outside and the file is closed.\n"
     ]
    }
   ],
   "source": [
    "old_man_and_the_sea = read_text('../data/raw/gutenberg/hemingway.txt')"
   ]
  },
  {
   "cell_type": "code",
   "execution_count": 18,
   "metadata": {},
   "outputs": [],
   "source": [
    "list_of_words=words(old_man_and_the_sea)"
   ]
  },
  {
   "cell_type": "code",
   "execution_count": 20,
   "metadata": {},
   "outputs": [
    {
     "data": {
      "text/plain": [
       "26878"
      ]
     },
     "execution_count": 20,
     "metadata": {},
     "output_type": "execute_result"
    }
   ],
   "source": [
    "len(list_of_words)"
   ]
  },
  {
   "cell_type": "code",
   "execution_count": 24,
   "metadata": {},
   "outputs": [],
   "source": [
    "counter=word_count(list_of_words)"
   ]
  },
  {
   "cell_type": "code",
   "execution_count": 28,
   "metadata": {},
   "outputs": [
    {
     "data": {
      "text/plain": [
       "218"
      ]
     },
     "execution_count": 28,
     "metadata": {},
     "output_type": "execute_result"
    }
   ],
   "source": [
    "counter['man']"
   ]
  },
  {
   "cell_type": "markdown",
   "metadata": {},
   "source": [
    ".csv file looks like:\n",
    "\n",
    "    word, count\n",
    "    sea,36\n",
    "    man,218"
   ]
  },
  {
   "cell_type": "code",
   "execution_count": 43,
   "metadata": {},
   "outputs": [],
   "source": [
    "def write_csv(filename, counter):\n",
    "    with open(filename, 'wt') as textfile:\n",
    "        textfile.write('word,count\\n')\n",
    "        for word in counter:\n",
    "            textfile.write(word + ',' + str(counter[word]) + '\\n')\n",
    "    print('Outside the \"with\", file is closed.')"
   ]
  },
  {
   "cell_type": "code",
   "execution_count": 44,
   "metadata": {},
   "outputs": [
    {
     "name": "stdout",
     "output_type": "stream",
     "text": [
      "Outside the \"with\", file is closed.\n"
     ]
    }
   ],
   "source": [
    "write_csv('../data/derived/hemingway.csv', counter)"
   ]
  },
  {
   "cell_type": "code",
   "execution_count": null,
   "metadata": {},
   "outputs": [],
   "source": []
  }
 ],
 "metadata": {
  "kernelspec": {
   "display_name": "Python 3",
   "language": "python",
   "name": "python3"
  },
  "language_info": {
   "codemirror_mode": {
    "name": "ipython",
    "version": 3
   },
   "file_extension": ".py",
   "mimetype": "text/x-python",
   "name": "python",
   "nbconvert_exporter": "python",
   "pygments_lexer": "ipython3",
   "version": "3.8.3"
  }
 },
 "nbformat": 4,
 "nbformat_minor": 4
}
